{
 "cells": [
  {
   "cell_type": "markdown",
   "id": "2b63d491",
   "metadata": {},
   "source": [
    "Environment creation and packages download for this project"
   ]
  },
  {
   "cell_type": "code",
   "execution_count": 7,
   "id": "8b441254",
   "metadata": {},
   "outputs": [],
   "source": [
    "# !conda create --name Env2 python=3.9.12"
   ]
  },
  {
   "cell_type": "code",
   "execution_count": 5,
   "id": "dac09520",
   "metadata": {},
   "outputs": [],
   "source": [
    "# !conda activate Env2"
   ]
  },
  {
   "cell_type": "code",
   "execution_count": 6,
   "id": "1bea5a49",
   "metadata": {},
   "outputs": [],
   "source": [
    "# !conda install pytorch torchvision torchaudio cudatoolkit=11.3 -c pytorch\n",
    "# !conda install tensorboard tensorboardX\n",
    "# !conda install pandas\n",
    "# !conda install -c conda-forge tabulate"
   ]
  },
  {
   "cell_type": "code",
   "execution_count": null,
   "id": "54c512d8",
   "metadata": {},
   "outputs": [],
   "source": []
  }
 ],
 "metadata": {
  "kernelspec": {
   "display_name": "Python 3 (ipykernel)",
   "language": "python",
   "name": "python3"
  },
  "language_info": {
   "codemirror_mode": {
    "name": "ipython",
    "version": 3
   },
   "file_extension": ".py",
   "mimetype": "text/x-python",
   "name": "python",
   "nbconvert_exporter": "python",
   "pygments_lexer": "ipython3",
   "version": "3.9.12"
  }
 },
 "nbformat": 4,
 "nbformat_minor": 5
}
