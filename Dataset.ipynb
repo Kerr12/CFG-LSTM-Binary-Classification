{
  "cells": [
    {
      "cell_type": "code",
      "execution_count": 1,
      "id": "6952153e",
      "metadata": {
        "id": "6952153e"
      },
      "outputs": [],
      "source": [
        "import random\n",
        "import pandas as pd\n",
        "import statistics"
      ]
    },
    {
      "cell_type": "code",
      "execution_count": 2,
      "id": "72c87149",
      "metadata": {
        "id": "72c87149"
      },
      "outputs": [],
      "source": [
        "#Grammar rules\n",
        "# L=a^n b^m c^2n   assuming m>0 , n>0\n",
        "rules ={\n",
        "    \"a\" : ['a', 'b'],\n",
        "    \"b\" : ['b','c'],\n",
        "    \"c\" : ['c']\n",
        "}"
      ]
    },
    {
      "cell_type": "code",
      "execution_count": 3,
      "id": "943a616e",
      "metadata": {
        "id": "943a616e"
      },
      "outputs": [],
      "source": [
        "#Generates random words following a^n b^m c^l\n",
        "def expand_random(start,stop):\n",
        "    if len(start) == stop:\n",
        "        return start\n",
        "    if (rules[start[-1]] and len(start)<100) :            \n",
        "        element = random.choice(rules[start[-1]])\n",
        "        start = start + element\n",
        "        return expand_random(start,stop)\n",
        "    \n",
        "\n",
        "\n",
        "    return start"
      ]
    },
    {
      "cell_type": "code",
      "execution_count": 4,
      "id": "9926cb09",
      "metadata": {
        "id": "9926cb09"
      },
      "outputs": [],
      "source": [
        "#Generates random words following a^n b^m c^2n \n",
        "def expand_cfg(start,a_count,b_count,c_count):\n",
        "    if (rules[start[-1]] and len(start)<100 and c_count < 2*a_count) : #guarantees a minimum lenght of 10 for each word while respecting the rule\n",
        "        if start[-1] == 'b' and b_count < 10-3*a_count:\n",
        "            element = 'b'\n",
        "        elif start[-1] == 'b' and b_count == 100 -3*a_count: #guarantees a macimum lenght of 100 for each word while respecting the rule\n",
        "            element ='c'\n",
        "        else :\n",
        "            element = random.choice(rules[start[-1]])\n",
        "        start = start + element\n",
        "        if element == 'a':\n",
        "            a_count += 1\n",
        "        elif element =='c':\n",
        "            c_count += 1\n",
        "        elif element =='b':\n",
        "            b_count += 1\n",
        "\n",
        "        return expand_cfg(start,a_count,b_count,c_count)\n",
        "\n",
        "\n",
        "    return start\n",
        "        \n",
        "    "
      ]
    },
    {
      "cell_type": "code",
      "execution_count": 5,
      "id": "7141d270",
      "metadata": {
        "id": "7141d270"
      },
      "outputs": [],
      "source": [
        "def gen_cfg():\n",
        "    start = 'a'\n",
        "    a_count = 1\n",
        "    c_count = 0  \n",
        "    b_count =0\n",
        "    return expand_cfg(start,a_count,b_count,c_count)\n",
        "    \n",
        "def gen_random():\n",
        "    start ='a'\n",
        "    stop = random.randint(10,100)\n",
        "    return expand_random(start,stop)\n",
        "    \n",
        "    \n",
        "    "
      ]
    },
    {
      "cell_type": "code",
      "execution_count": 6,
      "id": "1f736415",
      "metadata": {
        "id": "1f736415"
      },
      "outputs": [],
      "source": [
        "def count_occu(se):\n",
        "    count_a=[]\n",
        "    count_b=[]\n",
        "    count_c=[]\n",
        "    for e in se:\n",
        "        count_a.append(e[0].count('a'))\n",
        "        count_b.append(e[0].count('b'))\n",
        "        count_c.append(e[0].count('b'))\n",
        "    print(\"This dataset contains an average of {:.2f} a's, {:.2f} b's and {:.2f} c's over all words\".format(statistics.mean(count_a), statistics.mean(count_b),statistics.mean(count_c)))"
      ]
    },
    {
      "cell_type": "markdown",
      "id": "dd75479c",
      "metadata": {
        "id": "dd75479c"
      },
      "source": [
        "Class 1 generation"
      ]
    },
    {
      "cell_type": "code",
      "execution_count": 7,
      "id": "6508c105",
      "metadata": {
        "id": "6508c105"
      },
      "outputs": [],
      "source": [
        "dict_list=[]   #words that are/are not in the language are classified as 1/0\n",
        "for i in range(50000000):\n",
        "    a=[gen_cfg(),1]\n",
        "    dict_list.append(a)\n",
        "\n",
        "res1 = []\n",
        "[res1.append(x) for x in dict_list if x not in res1]\n",
        "dict_list=res1    "
      ]
    },
    {
      "cell_type": "code",
      "execution_count": 8,
      "id": "8f7744f5",
      "metadata": {
        "colab": {
          "base_uri": "https://localhost:8080/"
        },
        "id": "8f7744f5",
        "outputId": "f2777990-535c-44c3-c16d-c121a34e77b6"
      },
      "outputs": [
        {
          "output_type": "stream",
          "name": "stdout",
          "text": [
            "This dataset contains an average of 9.23 a's, 9.66 b's and 9.66 c's over all words\n"
          ]
        }
      ],
      "source": [
        "count_occu(dict_list)"
      ]
    },
    {
      "cell_type": "markdown",
      "id": "8c081a83",
      "metadata": {
        "id": "8c081a83"
      },
      "source": [
        "Class 0 generation"
      ]
    },
    {
      "cell_type": "code",
      "execution_count": 9,
      "id": "63facdd7",
      "metadata": {
        "id": "63facdd7"
      },
      "outputs": [],
      "source": [
        "dict_list_b=[] \n",
        "for i in range(500):    \n",
        "    b=[gen_random(),0]\n",
        "    dict_list_b.append(b)\n",
        "res = []\n",
        "[res.append(x) for x in dict_list_b if x not in res]\n",
        "dict_list_b=res"
      ]
    },
    {
      "cell_type": "code",
      "execution_count": 10,
      "id": "d337d963",
      "metadata": {
        "colab": {
          "base_uri": "https://localhost:8080/"
        },
        "id": "d337d963",
        "outputId": "309842d7-f0be-4672-97d3-07d5da02d8cb"
      },
      "outputs": [
        {
          "output_type": "stream",
          "name": "stdout",
          "text": [
            "This dataset contains an average of 2.20 a's, 2.13 b's and 2.13 c's over all words\n"
          ]
        }
      ],
      "source": [
        "count_occu(dict_list_b)"
      ]
    },
    {
      "cell_type": "code",
      "execution_count": 11,
      "id": "6db15573",
      "metadata": {
        "id": "6db15573"
      },
      "outputs": [],
      "source": [
        "dict_list.extend(dict_list_b)\n",
        "random.shuffle(dict_list)"
      ]
    },
    {
      "cell_type": "code",
      "execution_count": 12,
      "id": "57ebb181",
      "metadata": {
        "id": "57ebb181"
      },
      "outputs": [],
      "source": [
        "df = pd.DataFrame(dict_list, columns=['Words','Class'])"
      ]
    },
    {
      "cell_type": "code",
      "execution_count": 13,
      "id": "2ad2cd29",
      "metadata": {
        "colab": {
          "base_uri": "https://localhost:8080/",
          "height": 282
        },
        "id": "2ad2cd29",
        "outputId": "925e55d5-79af-4ff7-9708-95f631f32e90"
      },
      "outputs": [
        {
          "output_type": "execute_result",
          "data": {
            "text/plain": [
              "<matplotlib.axes._subplots.AxesSubplot at 0x7f5acfa63b90>"
            ]
          },
          "metadata": {},
          "execution_count": 13
        },
        {
          "output_type": "display_data",
          "data": {
            "text/plain": [
              "<Figure size 432x288 with 1 Axes>"
            ],
            "image/png": "[encoded data removed]"
          },
          "metadata": {
            "needs_background": "light"
          }
        }
      ],
      "source": [
        "df.plot.hist()"
      ]
    },
    {
      "cell_type": "code",
      "execution_count": 14,
      "id": "fd72c55e",
      "metadata": {
        "colab": {
          "base_uri": "https://localhost:8080/"
        },
        "id": "fd72c55e",
        "outputId": "d6837a8f-51c1-4897-acee-3d2a5601404b"
      },
      "outputs": [
        {
          "output_type": "execute_result",
          "data": {
            "text/plain": [
              "0    373\n",
              "1    327\n",
              "Name: Class, dtype: int64"
            ]
          },
          "metadata": {},
          "execution_count": 14
        }
      ],
      "source": [
        "df['Class'].value_counts()"
      ]
    },
    {
      "cell_type": "code",
      "execution_count": 15,
      "id": "c36a9c11",
      "metadata": {
        "colab": {
          "base_uri": "https://localhost:8080/",
          "height": 17
        },
        "id": "c36a9c11",
        "outputId": "06dcd474-294f-4e65-eb89-f9f9e6a77b39"
      },
      "outputs": [
        {
          "output_type": "display_data",
          "data": {
            "text/plain": [
              "<IPython.core.display.Javascript object>"
            ],
            "application/javascript": [
              "\n",
              "    async function download(id, filename, size) {\n",
              "      if (!google.colab.kernel.accessAllowed) {\n",
              "        return;\n",
              "      }\n",
              "      const div = document.createElement('div');\n",
              "      const label = document.createElement('label');\n",
              "      label.textContent = `Downloading \"${filename}\": `;\n",
              "      div.appendChild(label);\n",
              "      const progress = document.createElement('progress');\n",
              "      progress.max = size;\n",
              "      div.appendChild(progress);\n",
              "      document.body.appendChild(div);\n",
              "\n",
              "      const buffers = [];\n",
              "      let downloaded = 0;\n",
              "\n",
              "      const channel = await google.colab.kernel.comms.open(id);\n",
              "      // Send a message to notify the kernel that we're ready.\n",
              "      channel.send({})\n",
              "\n",
              "      for await (const message of channel.messages) {\n",
              "        // Send a message to notify the kernel that we're ready.\n",
              "        channel.send({})\n",
              "        if (message.buffers) {\n",
              "          for (const buffer of message.buffers) {\n",
              "            buffers.push(buffer);\n",
              "            downloaded += buffer.byteLength;\n",
              "            progress.value = downloaded;\n",
              "          }\n",
              "        }\n",
              "      }\n",
              "      const blob = new Blob(buffers, {type: 'application/binary'});\n",
              "      const a = document.createElement('a');\n",
              "      a.href = window.URL.createObjectURL(blob);\n",
              "      a.download = filename;\n",
              "      div.appendChild(a);\n",
              "      a.click();\n",
              "      div.remove();\n",
              "    }\n",
              "  "
            ]
          },
          "metadata": {}
        },
        {
          "output_type": "display_data",
          "data": {
            "text/plain": [
              "<IPython.core.display.Javascript object>"
            ],
            "application/javascript": [
              "download(\"download_95b08f06-f40f-44bf-a056-7fa5eb1f4e4f\", \"output.csv\", 37569)"
            ]
          },
          "metadata": {}
        }
      ],
      "source": [
        "from google.colab import files\n",
        "\n",
        "df.to_csv('output.csv', encoding = 'utf-8-sig') \n",
        "files.download('output.csv')"
      ]
    }
  ],
  "metadata": {
    "kernelspec": {
      "display_name": "Python 3 (ipykernel)",
      "language": "python",
      "name": "python3"
    },
    "language_info": {
      "codemirror_mode": {
        "name": "ipython",
        "version": 3
      },
      "file_extension": ".py",
      "mimetype": "text/x-python",
      "name": "python",
      "nbconvert_exporter": "python",
      "pygments_lexer": "ipython3",
      "version": "3.9.12"
    },
    "colab": {
      "name": "Dataset.ipynb",
      "provenance": []
    }
  },
  "nbformat": 4,
  "nbformat_minor": 5
}