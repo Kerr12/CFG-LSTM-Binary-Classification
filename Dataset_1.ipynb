{
 "cells": [
  {
   "cell_type": "code",
   "execution_count": 1,
   "id": "70b79f66",
   "metadata": {},
   "outputs": [],
   "source": [
    "import random\n",
    "import pandas as pd\n",
    "import statistics"
   ]
  },
  {
   "cell_type": "code",
   "execution_count": 2,
   "id": "c52c80b3",
   "metadata": {},
   "outputs": [],
   "source": [
    "rules ={\n",
    "    \"a\" : ['a', 'b'],\n",
    "    \"b\" : ['b','c'],\n",
    "    \"c\" : ['c']\n",
    "}"
   ]
  },
  {
   "cell_type": "code",
   "execution_count": 3,
   "id": "7e5a5a5f",
   "metadata": {},
   "outputs": [],
   "source": [
    "def count_occu(se):\n",
    "    count_a=[]\n",
    "    count_b=[]\n",
    "    count_c=[]\n",
    "    for e in se:\n",
    "        count_a.append(e[0].count('a'))\n",
    "        count_b.append(e[0].count('b'))\n",
    "        count_c.append(e[0].count('b'))\n",
    "    print(\"This class contains an average of {:.2f} a's, {:.2f} b's and {:.2f} c's over all words\".format(statistics.mean(count_a), statistics.mean(count_b),statistics.mean(count_c)))"
   ]
  },
  {
   "cell_type": "code",
   "execution_count": 4,
   "id": "54e31b99",
   "metadata": {},
   "outputs": [],
   "source": [
    "def expand_random(start,stop):\n",
    "    if len(start) == stop:\n",
    "        return start\n",
    "    if (rules[start[-1]] and len(start)<100) :            \n",
    "        element = random.choice(rules[start[-1]])\n",
    "        start = start + element\n",
    "        return expand_random(start,stop)\n",
    "    \n",
    "\n",
    "\n",
    "    return start"
   ]
  },
  {
   "cell_type": "code",
   "execution_count": 5,
   "id": "084e4ce5",
   "metadata": {},
   "outputs": [],
   "source": [
    "def gen_random():\n",
    "    start ='a'\n",
    "    stop = random.randint(10,100)\n",
    "    return expand_random(start,stop)\n",
    "    \n",
    "    "
   ]
  },
  {
   "cell_type": "code",
   "execution_count": 6,
   "id": "7f55803b",
   "metadata": {},
   "outputs": [],
   "source": [
    "def add_char(a,b,c):\n",
    "    word=''\n",
    "    for i in range(1,a+1):\n",
    "        word = word +'a'\n",
    "    for i in range(1,b+1):\n",
    "        word = word +'b'\n",
    "    for i in range(1,c+1):\n",
    "        word = word +'c'\n",
    "    return word"
   ]
  },
  {
   "cell_type": "markdown",
   "id": "b2ddc4f2",
   "metadata": {},
   "source": [
    "### Generating class 1"
   ]
  },
  {
   "cell_type": "code",
   "execution_count": 7,
   "id": "946219ae",
   "metadata": {},
   "outputs": [],
   "source": [
    "a_count=33\n",
    "b_count =1\n",
    "c_count=66\n",
    "dict_list=[]"
   ]
  },
  {
   "cell_type": "code",
   "execution_count": 8,
   "id": "4ce4f0a8",
   "metadata": {},
   "outputs": [],
   "source": [
    "\n",
    "while a_count>0 :\n",
    "    for i in range(0,b_count):\n",
    "        temp=add_char(a_count,i+1,c_count)\n",
    "        if len(temp)>9:\n",
    "            dict_list.append([temp,1])\n",
    "\n",
    "    a_count = a_count -1\n",
    "    c_count =c_count - 2\n",
    "    b_count = b_count +3\n",
    "    \n",
    "    "
   ]
  },
  {
   "cell_type": "code",
   "execution_count": 9,
   "id": "5f7905b3",
   "metadata": {},
   "outputs": [
    {
     "name": "stdout",
     "output_type": "stream",
     "text": [
      "This class contains an average of 11.51 a's, 33.50 b's and 33.50 c's over all words\n"
     ]
    }
   ],
   "source": [
    "count_occu(dict_list)"
   ]
  },
  {
   "cell_type": "markdown",
   "id": "0830c9d9",
   "metadata": {},
   "source": [
    "### Generating class 2"
   ]
  },
  {
   "cell_type": "code",
   "execution_count": 10,
   "id": "94bb44b7",
   "metadata": {},
   "outputs": [],
   "source": [
    "dict_list_b=[] \n",
    "for i in range(4000):    \n",
    "    b=[gen_random(),0]\n",
    "    dict_list_b.append(b)\n",
    "res = []\n",
    "[res.append(x) for x in dict_list_b if x not in res]\n",
    "dict_list_b=res"
   ]
  },
  {
   "cell_type": "code",
   "execution_count": 11,
   "id": "3896cc79",
   "metadata": {},
   "outputs": [
    {
     "name": "stdout",
     "output_type": "stream",
     "text": [
      "This class contains an average of 2.75 a's, 2.75 b's and 2.75 c's over all words\n"
     ]
    }
   ],
   "source": [
    "count_occu(dict_list_b)"
   ]
  },
  {
   "cell_type": "code",
   "execution_count": 12,
   "id": "ccbeba5b",
   "metadata": {},
   "outputs": [],
   "source": [
    "dict_list.extend(dict_list_b)\n",
    "random.shuffle(dict_list)"
   ]
  },
  {
   "cell_type": "code",
   "execution_count": 13,
   "id": "2648a8b6",
   "metadata": {},
   "outputs": [],
   "source": [
    "df = pd.DataFrame(dict_list, columns=['Words','Class'])"
   ]
  },
  {
   "cell_type": "code",
   "execution_count": 14,
   "id": "a3309f4f",
   "metadata": {},
   "outputs": [
    {
     "data": {
      "text/html": [
       "<div>\n",
       "<style scoped>\n",
       "    .dataframe tbody tr th:only-of-type {\n",
       "        vertical-align: middle;\n",
       "    }\n",
       "\n",
       "    .dataframe tbody tr th {\n",
       "        vertical-align: top;\n",
       "    }\n",
       "\n",
       "    .dataframe thead th {\n",
       "        text-align: right;\n",
       "    }\n",
       "</style>\n",
       "<table border=\"1\" class=\"dataframe\">\n",
       "  <thead>\n",
       "    <tr style=\"text-align: right;\">\n",
       "      <th></th>\n",
       "      <th>Words</th>\n",
       "      <th>Class</th>\n",
       "    </tr>\n",
       "  </thead>\n",
       "  <tbody>\n",
       "    <tr>\n",
       "      <th>0</th>\n",
       "      <td>abbbbbbbbbbbbbbbbbbbbbbbbbbbbbbbbbbbbbbbbbbbbb...</td>\n",
       "      <td>1</td>\n",
       "    </tr>\n",
       "    <tr>\n",
       "      <th>1</th>\n",
       "      <td>aaabbccccccccccccccccccccccccccccccccccccccccc...</td>\n",
       "      <td>0</td>\n",
       "    </tr>\n",
       "    <tr>\n",
       "      <th>2</th>\n",
       "      <td>abbbbbbbbbbbbbbbbbbbbbbbbbbbbbbbbbbbbbbbbbbbbb...</td>\n",
       "      <td>1</td>\n",
       "    </tr>\n",
       "    <tr>\n",
       "      <th>3</th>\n",
       "      <td>abbbcccccccccccccccccccccccccccccccccccccccccc...</td>\n",
       "      <td>0</td>\n",
       "    </tr>\n",
       "    <tr>\n",
       "      <th>4</th>\n",
       "      <td>aaaaaaaaaaaaaaaabbbbbbbbbbbbcccccccccccccccccc...</td>\n",
       "      <td>1</td>\n",
       "    </tr>\n",
       "    <tr>\n",
       "      <th>5</th>\n",
       "      <td>abbccccccccccccccccccccccccccccccccccccccccccc...</td>\n",
       "      <td>0</td>\n",
       "    </tr>\n",
       "    <tr>\n",
       "      <th>6</th>\n",
       "      <td>aaaaaaaaaaaaabbbbbbbbbbbbbbbcccccccccccccccccc...</td>\n",
       "      <td>1</td>\n",
       "    </tr>\n",
       "    <tr>\n",
       "      <th>7</th>\n",
       "      <td>aaaaaaabbbcccccccccccccccccccccccccccccccccccc...</td>\n",
       "      <td>0</td>\n",
       "    </tr>\n",
       "    <tr>\n",
       "      <th>8</th>\n",
       "      <td>aaaaaaaaaaaaaaaaabbbbbbbbbbbbbbbbbbbbbbbbbbbbb...</td>\n",
       "      <td>1</td>\n",
       "    </tr>\n",
       "    <tr>\n",
       "      <th>9</th>\n",
       "      <td>aabbbbcccccccccccccccccccccccccccccccccccccccc...</td>\n",
       "      <td>0</td>\n",
       "    </tr>\n",
       "    <tr>\n",
       "      <th>10</th>\n",
       "      <td>aaaaabcccccccccccccccccccccccccccccccccccccccc...</td>\n",
       "      <td>0</td>\n",
       "    </tr>\n",
       "    <tr>\n",
       "      <th>11</th>\n",
       "      <td>aabccccccccccccccccccccccccccccccccccccccccccc...</td>\n",
       "      <td>0</td>\n",
       "    </tr>\n",
       "    <tr>\n",
       "      <th>12</th>\n",
       "      <td>abbccccccccccccccccccccccccccccccccccccccccccc...</td>\n",
       "      <td>0</td>\n",
       "    </tr>\n",
       "    <tr>\n",
       "      <th>13</th>\n",
       "      <td>abbbcccccccccccccccccccccccccccccccc</td>\n",
       "      <td>0</td>\n",
       "    </tr>\n",
       "    <tr>\n",
       "      <th>14</th>\n",
       "      <td>aaaaaaaaaaaaaaaaaaaaabbbbbbbbbbbbbbccccccccccc...</td>\n",
       "      <td>1</td>\n",
       "    </tr>\n",
       "    <tr>\n",
       "      <th>15</th>\n",
       "      <td>aaabbbbbbbbbbbbbbbbbbbbbbbbbcccccc</td>\n",
       "      <td>1</td>\n",
       "    </tr>\n",
       "    <tr>\n",
       "      <th>16</th>\n",
       "      <td>aaaabbbbbccccccccccccccccccccccccccccccccccccc...</td>\n",
       "      <td>0</td>\n",
       "    </tr>\n",
       "    <tr>\n",
       "      <th>17</th>\n",
       "      <td>aaaaaaaaabbbbbbbbbbbbbbbbbbbbbbbbbbccccccccccc...</td>\n",
       "      <td>1</td>\n",
       "    </tr>\n",
       "    <tr>\n",
       "      <th>18</th>\n",
       "      <td>aaaabbbccccccccccccccccccccccccccccccccccccccc...</td>\n",
       "      <td>0</td>\n",
       "    </tr>\n",
       "    <tr>\n",
       "      <th>19</th>\n",
       "      <td>aaaaaaaaaaaaaaaaabbbbbbbbbbbbbbbbbbbbbbbbbbbbb...</td>\n",
       "      <td>1</td>\n",
       "    </tr>\n",
       "  </tbody>\n",
       "</table>\n",
       "</div>"
      ],
      "text/plain": [
       "                                                Words  Class\n",
       "0   abbbbbbbbbbbbbbbbbbbbbbbbbbbbbbbbbbbbbbbbbbbbb...      1\n",
       "1   aaabbccccccccccccccccccccccccccccccccccccccccc...      0\n",
       "2   abbbbbbbbbbbbbbbbbbbbbbbbbbbbbbbbbbbbbbbbbbbbb...      1\n",
       "3   abbbcccccccccccccccccccccccccccccccccccccccccc...      0\n",
       "4   aaaaaaaaaaaaaaaabbbbbbbbbbbbcccccccccccccccccc...      1\n",
       "5   abbccccccccccccccccccccccccccccccccccccccccccc...      0\n",
       "6   aaaaaaaaaaaaabbbbbbbbbbbbbbbcccccccccccccccccc...      1\n",
       "7   aaaaaaabbbcccccccccccccccccccccccccccccccccccc...      0\n",
       "8   aaaaaaaaaaaaaaaaabbbbbbbbbbbbbbbbbbbbbbbbbbbbb...      1\n",
       "9   aabbbbcccccccccccccccccccccccccccccccccccccccc...      0\n",
       "10  aaaaabcccccccccccccccccccccccccccccccccccccccc...      0\n",
       "11  aabccccccccccccccccccccccccccccccccccccccccccc...      0\n",
       "12  abbccccccccccccccccccccccccccccccccccccccccccc...      0\n",
       "13               abbbcccccccccccccccccccccccccccccccc      0\n",
       "14  aaaaaaaaaaaaaaaaaaaaabbbbbbbbbbbbbbccccccccccc...      1\n",
       "15                 aaabbbbbbbbbbbbbbbbbbbbbbbbbcccccc      1\n",
       "16  aaaabbbbbccccccccccccccccccccccccccccccccccccc...      0\n",
       "17  aaaaaaaaabbbbbbbbbbbbbbbbbbbbbbbbbbccccccccccc...      1\n",
       "18  aaaabbbccccccccccccccccccccccccccccccccccccccc...      0\n",
       "19  aaaaaaaaaaaaaaaaabbbbbbbbbbbbbbbbbbbbbbbbbbbbb...      1"
      ]
     },
     "execution_count": 14,
     "metadata": {},
     "output_type": "execute_result"
    }
   ],
   "source": [
    "df.head(20)"
   ]
  },
  {
   "cell_type": "code",
   "execution_count": 15,
   "id": "37a7e49c",
   "metadata": {},
   "outputs": [
    {
     "data": {
      "text/plain": [
       "<AxesSubplot:ylabel='Frequency'>"
      ]
     },
     "execution_count": 15,
     "metadata": {},
     "output_type": "execute_result"
    },
    {
     "data": {
      "image/png": "[encoded data removed]",
      "text/plain": [
       "<Figure size 432x288 with 1 Axes>"
      ]
     },
     "metadata": {
      "needs_background": "light"
     },
     "output_type": "display_data"
    }
   ],
   "source": [
    "df.plot.hist()"
   ]
  },
  {
   "cell_type": "code",
   "execution_count": 16,
   "id": "9c638be9",
   "metadata": {},
   "outputs": [
    {
     "data": {
      "text/plain": [
       "1    1608\n",
       "0    1444\n",
       "Name: Class, dtype: int64"
      ]
     },
     "execution_count": 16,
     "metadata": {},
     "output_type": "execute_result"
    }
   ],
   "source": [
    "df['Class'].value_counts()"
   ]
  },
  {
   "cell_type": "code",
   "execution_count": 17,
   "id": "dab0f765",
   "metadata": {},
   "outputs": [],
   "source": [
    "df.to_csv('cfg_dataset1.csv', encoding='utf-8',header=True,index=False)"
   ]
  }
 ],
 "metadata": {
  "kernelspec": {
   "display_name": "Python 3 (ipykernel)",
   "language": "python",
   "name": "python3"
  },
  "language_info": {
   "codemirror_mode": {
    "name": "ipython",
    "version": 3
   },
   "file_extension": ".py",
   "mimetype": "text/x-python",
   "name": "python",
   "nbconvert_exporter": "python",
   "pygments_lexer": "ipython3",
   "version": "3.9.12"
  }
 },
 "nbformat": 4,
 "nbformat_minor": 5
}
